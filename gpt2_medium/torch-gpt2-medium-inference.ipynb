{
 "cells": [
  {
   "cell_type": "code",
   "execution_count": null,
   "id": "e4ed13ec-a7c1-4d16-987f-88575b5e2392",
   "metadata": {},
   "outputs": [],
   "source": [
    "#!pip install transformers\n",
    "#!pip install --upgrade unsloth unsloth_zoo"
   ]
  },
  {
   "cell_type": "code",
   "execution_count": 1,
   "id": "443f4b90-d4f1-48ba-a468-46d2506382c6",
   "metadata": {},
   "outputs": [
    {
     "name": "stderr",
     "output_type": "stream",
     "text": [
      "/opt/conda/envs/py_3.12/lib/python3.12/site-packages/redis/connection.py:77: UserWarning: redis-py works best with hiredis. Please consider installing\n",
      "  warnings.warn(msg)\n"
     ]
    },
    {
     "name": "stdout",
     "output_type": "stream",
     "text": [
      "PyTorch using device: cuda\n"
     ]
    }
   ],
   "source": [
    "import torch\n",
    "import torch.nn as nn\n",
    "from transformers import AutoTokenizer, AutoModelForCausalLM\n",
    "\n",
    "import time\n",
    "import os\n",
    "\n",
    "#os.environ[\"PYTORCH_CUDA_ALLOC_CONF = expandable_segments:True\"\n",
    "os.environ[\"PYTORCH_CUDA_ALLOC_CONF\"] = \"expandable_segments:True\"\n",
    "\n",
    "#!export 'PYTORCH_CUDA_ALLOC_CONF=max_split_size_mb:512'\n",
    "# --- 1. Configuration ---\n",
    "# You can adjust these parameters\n",
    "MODEL_NAME = \"gpt2-xl\"\n",
    "MAX_LENGTH = 1024 # Maximum sequence length for GPT-2 Medium\n",
    "BATCH_SIZE = 4\n",
    "LEARNING_RATE = 5e-5\n",
    "EPOCHS = 1\n",
    "NUM_WORKERS = 4 # For faster data loading\n",
    "PATH= 'MAAI_gpt2_extra_large_torch-50'\n",
    "\n",
    "# --- 2. Device Setup (Essential for PyTorch) ---\n",
    "# Automatically detects and uses GPU (CUDA/ROCm) or falls back to CPU\n",
    "device = torch.device(\"cuda\" if torch.cuda.is_available() else \"cpu\")\n",
    "print(f\"PyTorch using device: {device}\")\n"
   ]
  },
  {
   "cell_type": "code",
   "execution_count": 3,
   "id": "c95bd175-f8f2-4d5e-b83b-64ab5449e4be",
   "metadata": {},
   "outputs": [
    {
     "name": "stdout",
     "output_type": "stream",
     "text": [
      "--2025-10-09 13:46:11--  https://jpdata1-my.sharepoint.com/:u:/g/personal/anand_jpdata_co/EfMPNio2KkZLpNLNYPN3VbwBgk8YWlAAxZBhZBYqpmKdkA?e=D14Who&download=1\n",
      "Resolving jpdata1-my.sharepoint.com (jpdata1-my.sharepoint.com)... 13.107.136.10, 13.107.138.10, 2620:1ec:8fa::10, ...\n",
      "Connecting to jpdata1-my.sharepoint.com (jpdata1-my.sharepoint.com)|13.107.136.10|:443... connected.\n",
      "HTTP request sent, awaiting response... 302 Found\n",
      "Location: /personal/anand_jpdata_co/Documents/gpt-weights/MAAI_gpt2-medium-torch-50?ga=1 [following]\n",
      "--2025-10-09 13:46:11--  https://jpdata1-my.sharepoint.com/personal/anand_jpdata_co/Documents/gpt-weights/MAAI_gpt2-medium-torch-50?ga=1\n",
      "Reusing existing connection to jpdata1-my.sharepoint.com:443.\n",
      "HTTP request sent, awaiting response... 200 OK\n",
      "Length: 1444645498 (1.3G) [application/octet-stream]\n",
      "Saving to: ‘MAAI_gpt2_medium_torch_50’\n",
      "\n",
      "MAAI_gpt2_medium_to 100%[===================>]   1.34G   112MB/s    in 12s     \n",
      "\n",
      "2025-10-09 13:46:23 (118 MB/s) - ‘MAAI_gpt2_medium_torch_50’ saved [1444645498/1444645498]\n",
      "\n"
     ]
    }
   ],
   "source": [
    "!wget --no-check-certificate \"https://jpdata1-my.sharepoint.com/:u:/g/personal/anand_jpdata_co/EfMPNio2KkZLpNLNYPN3VbwBgk8YWlAAxZBhZBYqpmKdkA?e=D14Who&download=1\" -O MAAI_gpt2_medium_torch_50\n"
   ]
  },
  {
   "cell_type": "code",
   "execution_count": 4,
   "id": "ed63344f-499c-4b04-9fd2-d02d5aea8ce3",
   "metadata": {},
   "outputs": [
    {
     "name": "stderr",
     "output_type": "stream",
     "text": [
      "2025-10-09 13:46:29.655121: I tensorflow/core/util/port.cc:153] oneDNN custom operations are on. You may see slightly different numerical results due to floating-point round-off errors from different computation orders. To turn them off, set the environment variable `TF_ENABLE_ONEDNN_OPTS=0`.\n",
      "2025-10-09 13:46:29.655733: I external/local_xla/xla/tsl/cuda/cudart_stub.cc:32] Could not find cuda drivers on your machine, GPU will not be used.\n",
      "2025-10-09 13:46:29.658572: I external/local_xla/xla/tsl/cuda/cudart_stub.cc:32] Could not find cuda drivers on your machine, GPU will not be used.\n",
      "2025-10-09 13:46:29.664680: E external/local_xla/xla/stream_executor/cuda/cuda_fft.cc:467] Unable to register cuFFT factory: Attempting to register factory for plugin cuFFT when one has already been registered\n",
      "WARNING: All log messages before absl::InitializeLog() is called are written to STDERR\n",
      "E0000 00:00:1760017589.675092   40549 cuda_dnn.cc:8579] Unable to register cuDNN factory: Attempting to register factory for plugin cuDNN when one has already been registered\n",
      "E0000 00:00:1760017589.677930   40549 cuda_blas.cc:1407] Unable to register cuBLAS factory: Attempting to register factory for plugin cuBLAS when one has already been registered\n",
      "W0000 00:00:1760017589.687366   40549 computation_placer.cc:177] computation placer already registered. Please check linkage and avoid linking the same target more than once.\n",
      "W0000 00:00:1760017589.687380   40549 computation_placer.cc:177] computation placer already registered. Please check linkage and avoid linking the same target more than once.\n",
      "W0000 00:00:1760017589.687382   40549 computation_placer.cc:177] computation placer already registered. Please check linkage and avoid linking the same target more than once.\n",
      "W0000 00:00:1760017589.687383   40549 computation_placer.cc:177] computation placer already registered. Please check linkage and avoid linking the same target more than once.\n",
      "2025-10-09 13:46:29.690874: I tensorflow/core/platform/cpu_feature_guard.cc:210] This TensorFlow binary is optimized to use available CPU instructions in performance-critical operations.\n",
      "To enable the following instructions: AVX2 AVX512F AVX512_VNNI AVX512_BF16 AVX512_FP16 AVX_VNNI FMA, in other operations, rebuild TensorFlow with the appropriate compiler flags.\n"
     ]
    }
   ],
   "source": [
    "\n",
    "# --- 5. Initialization ---\n",
    "\n",
    "# Load the Tokenizer\n",
    "tokenizer = AutoTokenizer.from_pretrained(MODEL_NAME)\n",
    "# Set the padding token, which is necessary for batching\n",
    "if tokenizer.pad_token is None:\n",
    "    tokenizer.pad_token = tokenizer.eos_token\n",
    "\n",
    "# Load the Model and move it to the device (GPU or CPU)\n",
    "#model = AutoModelForCausalLM.from_pretrained(MODEL_NAME).to(device)\n",
    "\n",
    "# Use the lines below for loading stored weights and comment the line above\n",
    "model = torch.load(PATH, weights_only=False)\n",
    "\n"
   ]
  },
  {
   "cell_type": "code",
   "execution_count": 5,
   "id": "265dba30-e338-4696-a995-5b1757de22c4",
   "metadata": {},
   "outputs": [],
   "source": [
    "prompt = \"तुमच्या\"\n",
    "max_new_tokens = 1024\n",
    "\n",
    "# 1. Tokenize input and move to device\n",
    "input_ids = tokenizer.encode(prompt, return_tensors='pt').to(device)\n",
    "\n"
   ]
  },
  {
   "cell_type": "code",
   "execution_count": 6,
   "id": "fd586aac-3082-4097-8112-f629aba2ae21",
   "metadata": {},
   "outputs": [
    {
     "name": "stderr",
     "output_type": "stream",
     "text": [
      "The attention mask is not set and cannot be inferred from input because pad token is same as eos token. As a consequence, you may observe unexpected behavior. Please pass your input's `attention_mask` to obtain reliable results.\n"
     ]
    },
    {
     "name": "stdout",
     "output_type": "stream",
     "text": [
      "Generating continuation for prompt: 'तुमच्या'\n"
     ]
    },
    {
     "name": "stderr",
     "output_type": "stream",
     "text": [
      "/opt/conda/envs/py_3.12/lib/python3.12/site-packages/transformers/integrations/sdpa_attention.py:83: UserWarning: Using AOTriton backend for Efficient Attention forward... (Triggered internally at /var/lib/jenkins/pytorch/aten/src/ATen/native/transformers/hip/attention.hip:1180.)\n",
      "  attn_output = torch.nn.functional.scaled_dot_product_attention(\n"
     ]
    },
    {
     "name": "stdout",
     "output_type": "stream",
     "text": [
      "--------------------\n",
      "Generated Text:\n",
      "तुमच्या ताकदीवर अनेक संकटं पेलून उभा राहिलो आहे असे म्हणत मतदारांच्या दिलेल्या उत्तरावर विचारवंत सुरु असताना वैद्यकीय शिक्षण मंडळाचे आज अध्यक्ष आणि माजी मंत्री हर्षवर्धन पाटील यांची निवड करण्यात आली. पुढील शिक्षण मंडळावर मनोज जरांगे पाटील यांची प्रकृती खालावल्याने त्यांना संबोधित करण्याची विनंती करण्यात आली आहे. मात�\n",
      "--------------------\n"
     ]
    }
   ],
   "source": [
    "# 2. Generate text\n",
    "print(f\"Generating continuation for prompt: '{prompt}'\")\n",
    "        # Use model.generate() for text generation\n",
    "with torch.no_grad():\n",
    "    output_sequences = model.generate(\n",
    "    input_ids=input_ids,\n",
    "    max_length=512, # Set max total length\n",
    "    num_return_sequences=1,\n",
    "    compile_config=None,\n",
    "    do_sample=True, # Use sampling for more creative output\n",
    "    top_k=50,\n",
    "    top_p=0.95,\n",
    "    temperature=0.9,\n",
    "    pad_token_id=tokenizer.eos_token_id # Ensure generation stops correctly\n",
    "    )\n",
    "\n",
    "# 3. Decode and Print Output\n",
    "generated_text = tokenizer.decode(output_sequences[0], skip_special_tokens=True)\n",
    "print(\"-\" * 20)\n",
    "print(f\"Generated Text:\\n{generated_text}\")\n",
    "print(\"-\" * 20)"
   ]
  },
  {
   "cell_type": "code",
   "execution_count": null,
   "id": "b4f1e55d-38e6-456b-93b4-d4ef9980ac0c",
   "metadata": {},
   "outputs": [],
   "source": []
  }
 ],
 "metadata": {
  "kernelspec": {
   "display_name": "Python 3 (ipykernel)",
   "language": "python",
   "name": "python3"
  },
  "language_info": {
   "codemirror_mode": {
    "name": "ipython",
    "version": 3
   },
   "file_extension": ".py",
   "mimetype": "text/x-python",
   "name": "python",
   "nbconvert_exporter": "python",
   "pygments_lexer": "ipython3",
   "version": "3.12.10"
  }
 },
 "nbformat": 4,
 "nbformat_minor": 5
}
