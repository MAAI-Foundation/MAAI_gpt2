{
 "cells": [
  {
   "cell_type": "code",
   "execution_count": 1,
   "id": "9d1fae95-bd82-4f32-92be-c47367e77b01",
   "metadata": {},
   "outputs": [
    {
     "name": "stdout",
     "output_type": "stream",
     "text": [
      "Defaulting to user installation because normal site-packages is not writeable\n",
      "Requirement already satisfied: tensorflow in /Users/anand/Library/Python/3.9/lib/python/site-packages (2.17.1)\n",
      "Requirement already satisfied: absl-py>=1.0.0 in /Users/anand/Library/Python/3.9/lib/python/site-packages (from tensorflow) (2.1.0)\n",
      "Requirement already satisfied: astunparse>=1.6.0 in /Users/anand/Library/Python/3.9/lib/python/site-packages (from tensorflow) (1.6.3)\n",
      "Requirement already satisfied: flatbuffers>=24.3.25 in /Users/anand/Library/Python/3.9/lib/python/site-packages (from tensorflow) (24.3.25)\n",
      "Requirement already satisfied: gast!=0.5.0,!=0.5.1,!=0.5.2,>=0.2.1 in /Users/anand/Library/Python/3.9/lib/python/site-packages (from tensorflow) (0.6.0)\n",
      "Requirement already satisfied: google-pasta>=0.1.1 in /Users/anand/Library/Python/3.9/lib/python/site-packages (from tensorflow) (0.2.0)\n",
      "Requirement already satisfied: h5py>=3.10.0 in /Users/anand/Library/Python/3.9/lib/python/site-packages (from tensorflow) (3.11.0)\n",
      "Requirement already satisfied: libclang>=13.0.0 in /Users/anand/Library/Python/3.9/lib/python/site-packages (from tensorflow) (18.1.1)\n",
      "Requirement already satisfied: ml-dtypes<0.5.0,>=0.3.1 in /Users/anand/Library/Python/3.9/lib/python/site-packages (from tensorflow) (0.4.1)\n",
      "Requirement already satisfied: opt-einsum>=2.3.2 in /Users/anand/Library/Python/3.9/lib/python/site-packages (from tensorflow) (3.3.0)\n",
      "Requirement already satisfied: packaging in /Users/anand/Library/Python/3.9/lib/python/site-packages (from tensorflow) (23.2)\n",
      "Requirement already satisfied: protobuf!=4.21.0,!=4.21.1,!=4.21.2,!=4.21.3,!=4.21.4,!=4.21.5,<5.0.0dev,>=3.20.3 in /Users/anand/Library/Python/3.9/lib/python/site-packages (from tensorflow) (3.20.3)\n",
      "Requirement already satisfied: requests<3,>=2.21.0 in /Users/anand/Library/Python/3.9/lib/python/site-packages (from tensorflow) (2.32.3)\n",
      "Requirement already satisfied: setuptools in /Applications/Xcode.app/Contents/Developer/Library/Frameworks/Python3.framework/Versions/3.9/lib/python3.9/site-packages (from tensorflow) (58.0.4)\n",
      "Requirement already satisfied: six>=1.12.0 in /Applications/Xcode.app/Contents/Developer/Library/Frameworks/Python3.framework/Versions/3.9/lib/python3.9/site-packages (from tensorflow) (1.15.0)\n",
      "Requirement already satisfied: termcolor>=1.1.0 in /Users/anand/Library/Python/3.9/lib/python/site-packages (from tensorflow) (2.4.0)\n",
      "Requirement already satisfied: typing-extensions>=3.6.6 in /Users/anand/Library/Python/3.9/lib/python/site-packages (from tensorflow) (4.12.2)\n",
      "Requirement already satisfied: wrapt>=1.11.0 in /Users/anand/Library/Python/3.9/lib/python/site-packages (from tensorflow) (1.16.0)\n",
      "Requirement already satisfied: grpcio<2.0,>=1.24.3 in /Users/anand/Library/Python/3.9/lib/python/site-packages (from tensorflow) (1.63.0)\n",
      "Requirement already satisfied: tensorboard<2.18,>=2.17 in /Users/anand/Library/Python/3.9/lib/python/site-packages (from tensorflow) (2.17.1)\n",
      "Requirement already satisfied: keras>=3.2.0 in /Users/anand/Library/Python/3.9/lib/python/site-packages (from tensorflow) (3.10.0)\n",
      "Requirement already satisfied: tensorflow-io-gcs-filesystem>=0.23.1 in /Users/anand/Library/Python/3.9/lib/python/site-packages (from tensorflow) (0.37.1)\n",
      "Requirement already satisfied: numpy<2.0.0,>=1.23.5 in /Users/anand/Library/Python/3.9/lib/python/site-packages (from tensorflow) (1.26.4)\n",
      "Requirement already satisfied: charset-normalizer<4,>=2 in /Users/anand/Library/Python/3.9/lib/python/site-packages (from requests<3,>=2.21.0->tensorflow) (3.1.0)\n",
      "Requirement already satisfied: idna<4,>=2.5 in /Users/anand/Library/Python/3.9/lib/python/site-packages (from requests<3,>=2.21.0->tensorflow) (3.4)\n",
      "Requirement already satisfied: urllib3<3,>=1.21.1 in /Users/anand/Library/Python/3.9/lib/python/site-packages (from requests<3,>=2.21.0->tensorflow) (1.26.15)\n",
      "Requirement already satisfied: certifi>=2017.4.17 in /Users/anand/Library/Python/3.9/lib/python/site-packages (from requests<3,>=2.21.0->tensorflow) (2022.12.7)\n",
      "Requirement already satisfied: markdown>=2.6.8 in /Users/anand/Library/Python/3.9/lib/python/site-packages (from tensorboard<2.18,>=2.17->tensorflow) (3.6)\n",
      "Requirement already satisfied: tensorboard-data-server<0.8.0,>=0.7.0 in /Users/anand/Library/Python/3.9/lib/python/site-packages (from tensorboard<2.18,>=2.17->tensorflow) (0.7.2)\n",
      "Requirement already satisfied: werkzeug>=1.0.1 in /Users/anand/Library/Python/3.9/lib/python/site-packages (from tensorboard<2.18,>=2.17->tensorflow) (3.0.3)\n",
      "Requirement already satisfied: wheel<1.0,>=0.23.0 in /Applications/Xcode.app/Contents/Developer/Library/Frameworks/Python3.framework/Versions/3.9/lib/python3.9/site-packages (from astunparse>=1.6.0->tensorflow) (0.37.0)\n",
      "Requirement already satisfied: rich in /Users/anand/Library/Python/3.9/lib/python/site-packages (from keras>=3.2.0->tensorflow) (13.7.1)\n",
      "Requirement already satisfied: namex in /Users/anand/Library/Python/3.9/lib/python/site-packages (from keras>=3.2.0->tensorflow) (0.0.8)\n",
      "Requirement already satisfied: optree in /Users/anand/Library/Python/3.9/lib/python/site-packages (from keras>=3.2.0->tensorflow) (0.15.0)\n",
      "Requirement already satisfied: importlib-metadata>=4.4 in /Users/anand/Library/Python/3.9/lib/python/site-packages (from markdown>=2.6.8->tensorboard<2.18,>=2.17->tensorflow) (7.0.0)\n",
      "Requirement already satisfied: zipp>=0.5 in /Users/anand/Library/Python/3.9/lib/python/site-packages (from importlib-metadata>=4.4->markdown>=2.6.8->tensorboard<2.18,>=2.17->tensorflow) (3.15.0)\n",
      "Requirement already satisfied: MarkupSafe>=2.1.1 in /Users/anand/Library/Python/3.9/lib/python/site-packages (from werkzeug>=1.0.1->tensorboard<2.18,>=2.17->tensorflow) (2.1.3)\n",
      "Requirement already satisfied: markdown-it-py>=2.2.0 in /Users/anand/Library/Python/3.9/lib/python/site-packages (from rich->keras>=3.2.0->tensorflow) (3.0.0)\n",
      "Requirement already satisfied: pygments<3.0.0,>=2.13.0 in /Users/anand/Library/Python/3.9/lib/python/site-packages (from rich->keras>=3.2.0->tensorflow) (2.17.2)\n",
      "Requirement already satisfied: mdurl~=0.1 in /Users/anand/Library/Python/3.9/lib/python/site-packages (from markdown-it-py>=2.2.0->rich->keras>=3.2.0->tensorflow) (0.1.2)\n",
      "Defaulting to user installation because normal site-packages is not writeable\n",
      "Requirement already satisfied: keras in /Users/anand/Library/Python/3.9/lib/python/site-packages (3.10.0)\n",
      "Requirement already satisfied: keras_nlp in /Users/anand/Library/Python/3.9/lib/python/site-packages (0.21.1)\n",
      "Requirement already satisfied: absl-py in /Users/anand/Library/Python/3.9/lib/python/site-packages (from keras) (2.1.0)\n",
      "Requirement already satisfied: numpy in /Users/anand/Library/Python/3.9/lib/python/site-packages (from keras) (1.26.4)\n",
      "Requirement already satisfied: rich in /Users/anand/Library/Python/3.9/lib/python/site-packages (from keras) (13.7.1)\n",
      "Requirement already satisfied: namex in /Users/anand/Library/Python/3.9/lib/python/site-packages (from keras) (0.0.8)\n",
      "Requirement already satisfied: h5py in /Users/anand/Library/Python/3.9/lib/python/site-packages (from keras) (3.11.0)\n",
      "Requirement already satisfied: optree in /Users/anand/Library/Python/3.9/lib/python/site-packages (from keras) (0.15.0)\n",
      "Requirement already satisfied: ml-dtypes in /Users/anand/Library/Python/3.9/lib/python/site-packages (from keras) (0.4.1)\n",
      "Requirement already satisfied: packaging in /Users/anand/Library/Python/3.9/lib/python/site-packages (from keras) (23.2)\n",
      "Requirement already satisfied: keras-hub==0.21.1 in /Users/anand/Library/Python/3.9/lib/python/site-packages (from keras_nlp) (0.21.1)\n",
      "Requirement already satisfied: regex in /Users/anand/Library/Python/3.9/lib/python/site-packages (from keras-hub==0.21.1->keras_nlp) (2024.4.28)\n",
      "Requirement already satisfied: kagglehub in /Users/anand/Library/Python/3.9/lib/python/site-packages (from keras-hub==0.21.1->keras_nlp) (0.2.7)\n",
      "Requirement already satisfied: tensorflow-text in /Users/anand/Library/Python/3.9/lib/python/site-packages (from keras-hub==0.21.1->keras_nlp) (2.17.0)\n",
      "Requirement already satisfied: requests in /Users/anand/Library/Python/3.9/lib/python/site-packages (from kagglehub->keras-hub==0.21.1->keras_nlp) (2.32.3)\n",
      "Requirement already satisfied: tqdm in /Users/anand/Library/Python/3.9/lib/python/site-packages (from kagglehub->keras-hub==0.21.1->keras_nlp) (4.66.4)\n",
      "Requirement already satisfied: typing-extensions>=4.5.0 in /Users/anand/Library/Python/3.9/lib/python/site-packages (from optree->keras) (4.12.2)\n",
      "Requirement already satisfied: charset-normalizer<4,>=2 in /Users/anand/Library/Python/3.9/lib/python/site-packages (from requests->kagglehub->keras-hub==0.21.1->keras_nlp) (3.1.0)\n",
      "Requirement already satisfied: idna<4,>=2.5 in /Users/anand/Library/Python/3.9/lib/python/site-packages (from requests->kagglehub->keras-hub==0.21.1->keras_nlp) (3.4)\n",
      "Requirement already satisfied: urllib3<3,>=1.21.1 in /Users/anand/Library/Python/3.9/lib/python/site-packages (from requests->kagglehub->keras-hub==0.21.1->keras_nlp) (1.26.15)\n",
      "Requirement already satisfied: certifi>=2017.4.17 in /Users/anand/Library/Python/3.9/lib/python/site-packages (from requests->kagglehub->keras-hub==0.21.1->keras_nlp) (2022.12.7)\n",
      "Requirement already satisfied: markdown-it-py>=2.2.0 in /Users/anand/Library/Python/3.9/lib/python/site-packages (from rich->keras) (3.0.0)\n",
      "Requirement already satisfied: pygments<3.0.0,>=2.13.0 in /Users/anand/Library/Python/3.9/lib/python/site-packages (from rich->keras) (2.17.2)\n",
      "Requirement already satisfied: mdurl~=0.1 in /Users/anand/Library/Python/3.9/lib/python/site-packages (from markdown-it-py>=2.2.0->rich->keras) (0.1.2)\n",
      "Requirement already satisfied: tensorflow<2.18,>=2.17.0 in /Users/anand/Library/Python/3.9/lib/python/site-packages (from tensorflow-text->keras-hub==0.21.1->keras_nlp) (2.17.1)\n",
      "Requirement already satisfied: astunparse>=1.6.0 in /Users/anand/Library/Python/3.9/lib/python/site-packages (from tensorflow<2.18,>=2.17.0->tensorflow-text->keras-hub==0.21.1->keras_nlp) (1.6.3)\n",
      "Requirement already satisfied: flatbuffers>=24.3.25 in /Users/anand/Library/Python/3.9/lib/python/site-packages (from tensorflow<2.18,>=2.17.0->tensorflow-text->keras-hub==0.21.1->keras_nlp) (24.3.25)\n",
      "Requirement already satisfied: gast!=0.5.0,!=0.5.1,!=0.5.2,>=0.2.1 in /Users/anand/Library/Python/3.9/lib/python/site-packages (from tensorflow<2.18,>=2.17.0->tensorflow-text->keras-hub==0.21.1->keras_nlp) (0.6.0)\n",
      "Requirement already satisfied: google-pasta>=0.1.1 in /Users/anand/Library/Python/3.9/lib/python/site-packages (from tensorflow<2.18,>=2.17.0->tensorflow-text->keras-hub==0.21.1->keras_nlp) (0.2.0)\n",
      "Requirement already satisfied: libclang>=13.0.0 in /Users/anand/Library/Python/3.9/lib/python/site-packages (from tensorflow<2.18,>=2.17.0->tensorflow-text->keras-hub==0.21.1->keras_nlp) (18.1.1)\n",
      "Requirement already satisfied: opt-einsum>=2.3.2 in /Users/anand/Library/Python/3.9/lib/python/site-packages (from tensorflow<2.18,>=2.17.0->tensorflow-text->keras-hub==0.21.1->keras_nlp) (3.3.0)\n",
      "Requirement already satisfied: protobuf!=4.21.0,!=4.21.1,!=4.21.2,!=4.21.3,!=4.21.4,!=4.21.5,<5.0.0dev,>=3.20.3 in /Users/anand/Library/Python/3.9/lib/python/site-packages (from tensorflow<2.18,>=2.17.0->tensorflow-text->keras-hub==0.21.1->keras_nlp) (3.20.3)\n",
      "Requirement already satisfied: setuptools in /Applications/Xcode.app/Contents/Developer/Library/Frameworks/Python3.framework/Versions/3.9/lib/python3.9/site-packages (from tensorflow<2.18,>=2.17.0->tensorflow-text->keras-hub==0.21.1->keras_nlp) (58.0.4)\n",
      "Requirement already satisfied: six>=1.12.0 in /Applications/Xcode.app/Contents/Developer/Library/Frameworks/Python3.framework/Versions/3.9/lib/python3.9/site-packages (from tensorflow<2.18,>=2.17.0->tensorflow-text->keras-hub==0.21.1->keras_nlp) (1.15.0)\n",
      "Requirement already satisfied: termcolor>=1.1.0 in /Users/anand/Library/Python/3.9/lib/python/site-packages (from tensorflow<2.18,>=2.17.0->tensorflow-text->keras-hub==0.21.1->keras_nlp) (2.4.0)\n",
      "Requirement already satisfied: wrapt>=1.11.0 in /Users/anand/Library/Python/3.9/lib/python/site-packages (from tensorflow<2.18,>=2.17.0->tensorflow-text->keras-hub==0.21.1->keras_nlp) (1.16.0)\n",
      "Requirement already satisfied: grpcio<2.0,>=1.24.3 in /Users/anand/Library/Python/3.9/lib/python/site-packages (from tensorflow<2.18,>=2.17.0->tensorflow-text->keras-hub==0.21.1->keras_nlp) (1.63.0)\n",
      "Requirement already satisfied: tensorboard<2.18,>=2.17 in /Users/anand/Library/Python/3.9/lib/python/site-packages (from tensorflow<2.18,>=2.17.0->tensorflow-text->keras-hub==0.21.1->keras_nlp) (2.17.1)\n",
      "Requirement already satisfied: tensorflow-io-gcs-filesystem>=0.23.1 in /Users/anand/Library/Python/3.9/lib/python/site-packages (from tensorflow<2.18,>=2.17.0->tensorflow-text->keras-hub==0.21.1->keras_nlp) (0.37.1)\n",
      "Requirement already satisfied: markdown>=2.6.8 in /Users/anand/Library/Python/3.9/lib/python/site-packages (from tensorboard<2.18,>=2.17->tensorflow<2.18,>=2.17.0->tensorflow-text->keras-hub==0.21.1->keras_nlp) (3.6)\n",
      "Requirement already satisfied: tensorboard-data-server<0.8.0,>=0.7.0 in /Users/anand/Library/Python/3.9/lib/python/site-packages (from tensorboard<2.18,>=2.17->tensorflow<2.18,>=2.17.0->tensorflow-text->keras-hub==0.21.1->keras_nlp) (0.7.2)\n",
      "Requirement already satisfied: werkzeug>=1.0.1 in /Users/anand/Library/Python/3.9/lib/python/site-packages (from tensorboard<2.18,>=2.17->tensorflow<2.18,>=2.17.0->tensorflow-text->keras-hub==0.21.1->keras_nlp) (3.0.3)\n",
      "Requirement already satisfied: wheel<1.0,>=0.23.0 in /Applications/Xcode.app/Contents/Developer/Library/Frameworks/Python3.framework/Versions/3.9/lib/python3.9/site-packages (from astunparse>=1.6.0->tensorflow<2.18,>=2.17.0->tensorflow-text->keras-hub==0.21.1->keras_nlp) (0.37.0)\n",
      "Requirement already satisfied: importlib-metadata>=4.4 in /Users/anand/Library/Python/3.9/lib/python/site-packages (from markdown>=2.6.8->tensorboard<2.18,>=2.17->tensorflow<2.18,>=2.17.0->tensorflow-text->keras-hub==0.21.1->keras_nlp) (7.0.0)\n",
      "Requirement already satisfied: zipp>=0.5 in /Users/anand/Library/Python/3.9/lib/python/site-packages (from importlib-metadata>=4.4->markdown>=2.6.8->tensorboard<2.18,>=2.17->tensorflow<2.18,>=2.17.0->tensorflow-text->keras-hub==0.21.1->keras_nlp) (3.15.0)\n",
      "Requirement already satisfied: MarkupSafe>=2.1.1 in /Users/anand/Library/Python/3.9/lib/python/site-packages (from werkzeug>=1.0.1->tensorboard<2.18,>=2.17->tensorflow<2.18,>=2.17.0->tensorflow-text->keras-hub==0.21.1->keras_nlp) (2.1.3)\n",
      "Defaulting to user installation because normal site-packages is not writeable\n",
      "Requirement already satisfied: keras-hub in /Users/anand/Library/Python/3.9/lib/python/site-packages (0.21.1)\n",
      "Requirement already satisfied: keras>=3.5 in /Users/anand/Library/Python/3.9/lib/python/site-packages (from keras-hub) (3.10.0)\n",
      "Requirement already satisfied: absl-py in /Users/anand/Library/Python/3.9/lib/python/site-packages (from keras-hub) (2.1.0)\n",
      "Requirement already satisfied: numpy in /Users/anand/Library/Python/3.9/lib/python/site-packages (from keras-hub) (1.26.4)\n",
      "Requirement already satisfied: packaging in /Users/anand/Library/Python/3.9/lib/python/site-packages (from keras-hub) (23.2)\n",
      "Requirement already satisfied: regex in /Users/anand/Library/Python/3.9/lib/python/site-packages (from keras-hub) (2024.4.28)\n",
      "Requirement already satisfied: rich in /Users/anand/Library/Python/3.9/lib/python/site-packages (from keras-hub) (13.7.1)\n",
      "Requirement already satisfied: kagglehub in /Users/anand/Library/Python/3.9/lib/python/site-packages (from keras-hub) (0.2.7)\n",
      "Requirement already satisfied: tensorflow-text in /Users/anand/Library/Python/3.9/lib/python/site-packages (from keras-hub) (2.17.0)\n",
      "Requirement already satisfied: namex in /Users/anand/Library/Python/3.9/lib/python/site-packages (from keras>=3.5->keras-hub) (0.0.8)\n",
      "Requirement already satisfied: h5py in /Users/anand/Library/Python/3.9/lib/python/site-packages (from keras>=3.5->keras-hub) (3.11.0)\n",
      "Requirement already satisfied: optree in /Users/anand/Library/Python/3.9/lib/python/site-packages (from keras>=3.5->keras-hub) (0.15.0)\n",
      "Requirement already satisfied: ml-dtypes in /Users/anand/Library/Python/3.9/lib/python/site-packages (from keras>=3.5->keras-hub) (0.4.1)\n",
      "Requirement already satisfied: requests in /Users/anand/Library/Python/3.9/lib/python/site-packages (from kagglehub->keras-hub) (2.32.3)\n",
      "Requirement already satisfied: tqdm in /Users/anand/Library/Python/3.9/lib/python/site-packages (from kagglehub->keras-hub) (4.66.4)\n",
      "Requirement already satisfied: typing-extensions>=4.5.0 in /Users/anand/Library/Python/3.9/lib/python/site-packages (from optree->keras>=3.5->keras-hub) (4.12.2)\n",
      "Requirement already satisfied: charset-normalizer<4,>=2 in /Users/anand/Library/Python/3.9/lib/python/site-packages (from requests->kagglehub->keras-hub) (3.1.0)\n",
      "Requirement already satisfied: idna<4,>=2.5 in /Users/anand/Library/Python/3.9/lib/python/site-packages (from requests->kagglehub->keras-hub) (3.4)\n",
      "Requirement already satisfied: urllib3<3,>=1.21.1 in /Users/anand/Library/Python/3.9/lib/python/site-packages (from requests->kagglehub->keras-hub) (1.26.15)\n",
      "Requirement already satisfied: certifi>=2017.4.17 in /Users/anand/Library/Python/3.9/lib/python/site-packages (from requests->kagglehub->keras-hub) (2022.12.7)\n",
      "Requirement already satisfied: markdown-it-py>=2.2.0 in /Users/anand/Library/Python/3.9/lib/python/site-packages (from rich->keras-hub) (3.0.0)\n",
      "Requirement already satisfied: pygments<3.0.0,>=2.13.0 in /Users/anand/Library/Python/3.9/lib/python/site-packages (from rich->keras-hub) (2.17.2)\n",
      "Requirement already satisfied: mdurl~=0.1 in /Users/anand/Library/Python/3.9/lib/python/site-packages (from markdown-it-py>=2.2.0->rich->keras-hub) (0.1.2)\n",
      "Requirement already satisfied: tensorflow<2.18,>=2.17.0 in /Users/anand/Library/Python/3.9/lib/python/site-packages (from tensorflow-text->keras-hub) (2.17.1)\n",
      "Requirement already satisfied: astunparse>=1.6.0 in /Users/anand/Library/Python/3.9/lib/python/site-packages (from tensorflow<2.18,>=2.17.0->tensorflow-text->keras-hub) (1.6.3)\n",
      "Requirement already satisfied: flatbuffers>=24.3.25 in /Users/anand/Library/Python/3.9/lib/python/site-packages (from tensorflow<2.18,>=2.17.0->tensorflow-text->keras-hub) (24.3.25)\n",
      "Requirement already satisfied: gast!=0.5.0,!=0.5.1,!=0.5.2,>=0.2.1 in /Users/anand/Library/Python/3.9/lib/python/site-packages (from tensorflow<2.18,>=2.17.0->tensorflow-text->keras-hub) (0.6.0)\n",
      "Requirement already satisfied: google-pasta>=0.1.1 in /Users/anand/Library/Python/3.9/lib/python/site-packages (from tensorflow<2.18,>=2.17.0->tensorflow-text->keras-hub) (0.2.0)\n",
      "Requirement already satisfied: libclang>=13.0.0 in /Users/anand/Library/Python/3.9/lib/python/site-packages (from tensorflow<2.18,>=2.17.0->tensorflow-text->keras-hub) (18.1.1)\n",
      "Requirement already satisfied: opt-einsum>=2.3.2 in /Users/anand/Library/Python/3.9/lib/python/site-packages (from tensorflow<2.18,>=2.17.0->tensorflow-text->keras-hub) (3.3.0)\n",
      "Requirement already satisfied: protobuf!=4.21.0,!=4.21.1,!=4.21.2,!=4.21.3,!=4.21.4,!=4.21.5,<5.0.0dev,>=3.20.3 in /Users/anand/Library/Python/3.9/lib/python/site-packages (from tensorflow<2.18,>=2.17.0->tensorflow-text->keras-hub) (3.20.3)\n",
      "Requirement already satisfied: setuptools in /Applications/Xcode.app/Contents/Developer/Library/Frameworks/Python3.framework/Versions/3.9/lib/python3.9/site-packages (from tensorflow<2.18,>=2.17.0->tensorflow-text->keras-hub) (58.0.4)\n",
      "Requirement already satisfied: six>=1.12.0 in /Applications/Xcode.app/Contents/Developer/Library/Frameworks/Python3.framework/Versions/3.9/lib/python3.9/site-packages (from tensorflow<2.18,>=2.17.0->tensorflow-text->keras-hub) (1.15.0)\n",
      "Requirement already satisfied: termcolor>=1.1.0 in /Users/anand/Library/Python/3.9/lib/python/site-packages (from tensorflow<2.18,>=2.17.0->tensorflow-text->keras-hub) (2.4.0)\n",
      "Requirement already satisfied: wrapt>=1.11.0 in /Users/anand/Library/Python/3.9/lib/python/site-packages (from tensorflow<2.18,>=2.17.0->tensorflow-text->keras-hub) (1.16.0)\n",
      "Requirement already satisfied: grpcio<2.0,>=1.24.3 in /Users/anand/Library/Python/3.9/lib/python/site-packages (from tensorflow<2.18,>=2.17.0->tensorflow-text->keras-hub) (1.63.0)\n",
      "Requirement already satisfied: tensorboard<2.18,>=2.17 in /Users/anand/Library/Python/3.9/lib/python/site-packages (from tensorflow<2.18,>=2.17.0->tensorflow-text->keras-hub) (2.17.1)\n",
      "Requirement already satisfied: tensorflow-io-gcs-filesystem>=0.23.1 in /Users/anand/Library/Python/3.9/lib/python/site-packages (from tensorflow<2.18,>=2.17.0->tensorflow-text->keras-hub) (0.37.1)\n",
      "Requirement already satisfied: markdown>=2.6.8 in /Users/anand/Library/Python/3.9/lib/python/site-packages (from tensorboard<2.18,>=2.17->tensorflow<2.18,>=2.17.0->tensorflow-text->keras-hub) (3.6)\n",
      "Requirement already satisfied: tensorboard-data-server<0.8.0,>=0.7.0 in /Users/anand/Library/Python/3.9/lib/python/site-packages (from tensorboard<2.18,>=2.17->tensorflow<2.18,>=2.17.0->tensorflow-text->keras-hub) (0.7.2)\n",
      "Requirement already satisfied: werkzeug>=1.0.1 in /Users/anand/Library/Python/3.9/lib/python/site-packages (from tensorboard<2.18,>=2.17->tensorflow<2.18,>=2.17.0->tensorflow-text->keras-hub) (3.0.3)\n",
      "Requirement already satisfied: wheel<1.0,>=0.23.0 in /Applications/Xcode.app/Contents/Developer/Library/Frameworks/Python3.framework/Versions/3.9/lib/python3.9/site-packages (from astunparse>=1.6.0->tensorflow<2.18,>=2.17.0->tensorflow-text->keras-hub) (0.37.0)\n",
      "Requirement already satisfied: importlib-metadata>=4.4 in /Users/anand/Library/Python/3.9/lib/python/site-packages (from markdown>=2.6.8->tensorboard<2.18,>=2.17->tensorflow<2.18,>=2.17.0->tensorflow-text->keras-hub) (7.0.0)\n",
      "Requirement already satisfied: zipp>=0.5 in /Users/anand/Library/Python/3.9/lib/python/site-packages (from importlib-metadata>=4.4->markdown>=2.6.8->tensorboard<2.18,>=2.17->tensorflow<2.18,>=2.17.0->tensorflow-text->keras-hub) (3.15.0)\n",
      "Requirement already satisfied: MarkupSafe>=2.1.1 in /Users/anand/Library/Python/3.9/lib/python/site-packages (from werkzeug>=1.0.1->tensorboard<2.18,>=2.17->tensorflow<2.18,>=2.17.0->tensorflow-text->keras-hub) (2.1.3)\n"
     ]
    }
   ],
   "source": [
    "!pip install tensorflow\n",
    "!pip install keras keras_nlp\n",
    "!pip install keras-hub\n"
   ]
  },
  {
   "cell_type": "code",
   "execution_count": 2,
   "id": "67bffcdf-d09f-460a-893f-b7a72d7ffc6b",
   "metadata": {},
   "outputs": [],
   "source": [
    "# Before running, make sure to set Runtime to T4\n",
    "import os\n",
    "os.environ[\"KERAS_BACKEND\"] = \"torch\"  # or \"tensorflow\" or \"torch\"\n",
    "\n",
    "import keras_nlp\n",
    "import keras\n",
    "import torch\n",
    "#import tensorflow as tf\n",
    "import time\n",
    "device = torch.device(\"cuda\" if torch.cuda.is_available() else \"cpu\")\n",
    "\n",
    "keras.mixed_precision.set_global_policy(\"mixed_float16\")"
   ]
  },
  {
   "cell_type": "code",
   "execution_count": 3,
   "id": "b448b08c-6b19-4b7d-bb64-a1af7cb5a899",
   "metadata": {},
   "outputs": [
    {
     "name": "stdout",
     "output_type": "stream",
     "text": [
      "Downloading from https://www.kaggle.com/api/v1/models/keras/gpt2/keras/gpt2_medium_en/3/download/config.json...\n"
     ]
    },
    {
     "name": "stderr",
     "output_type": "stream",
     "text": [
      "100%|███████████████████████████████████████████████████████████████████████████████████████████████████████████████| 432/432 [00:00<00:00, 171kB/s]\n"
     ]
    },
    {
     "name": "stdout",
     "output_type": "stream",
     "text": [
      "Downloading from https://www.kaggle.com/api/v1/models/keras/gpt2/keras/gpt2_medium_en/3/download/tokenizer.json...\n"
     ]
    },
    {
     "name": "stderr",
     "output_type": "stream",
     "text": [
      "100%|███████████████████████████████████████████████████████████████████████████████████████████████████████████████| 618/618 [00:00<00:00, 522kB/s]\n"
     ]
    },
    {
     "name": "stdout",
     "output_type": "stream",
     "text": [
      "Downloading from https://www.kaggle.com/api/v1/models/keras/gpt2/keras/gpt2_medium_en/3/download/assets/tokenizer/vocabulary.json...\n"
     ]
    },
    {
     "name": "stderr",
     "output_type": "stream",
     "text": [
      "100%|██████████████████████████████████████████████████████████████████████████████████████████████████████████| 0.99M/0.99M [00:00<00:00, 1.94MB/s]\n"
     ]
    },
    {
     "name": "stdout",
     "output_type": "stream",
     "text": [
      "Downloading from https://www.kaggle.com/api/v1/models/keras/gpt2/keras/gpt2_medium_en/3/download/assets/tokenizer/merges.txt...\n"
     ]
    },
    {
     "name": "stderr",
     "output_type": "stream",
     "text": [
      "100%|████████████████████████████████████████████████████████████████████████████████████████████████████████████| 446k/446k [00:00<00:00, 1.08MB/s]\n"
     ]
    },
    {
     "name": "stdout",
     "output_type": "stream",
     "text": [
      "Downloading from https://www.kaggle.com/api/v1/models/keras/gpt2/keras/gpt2_medium_en/3/download/model.weights.h5...\n"
     ]
    },
    {
     "name": "stderr",
     "output_type": "stream",
     "text": [
      "100%|██████████████████████████████████████████████████████████████████████████████████████████████████████████| 1.32G/1.32G [03:52<00:00, 6.11MB/s]\n",
      "/Users/anand/Library/Python/3.9/lib/python/site-packages/keras/src/saving/saving_lib.py:802: UserWarning: Skipping variable loading for optimizer 'loss_scale_optimizer', because it has 4 variables whereas the saved optimizer has 781 variables. \n",
      "  saveable.load_own_variables(weights_store.get(inner_path))\n",
      "/Users/anand/Library/Python/3.9/lib/python/site-packages/keras/src/saving/saving_lib.py:802: UserWarning: Skipping variable loading for optimizer 'adam', because it has 2 variables whereas the saved optimizer has 777 variables. \n",
      "  saveable.load_own_variables(weights_store.get(inner_path))\n"
     ]
    }
   ],
   "source": [
    "# To speed up training and generation, we use preprocessor of length 128\n",
    "# instead of full length 1024.\n",
    "\n",
    "preprocessor = keras_nlp.models.GPT2CausalLMPreprocessor.from_preset(\n",
    "    \"gpt2_medium_en\",\n",
    "    sequence_length=512,\n",
    ")\n",
    "gpt2_lm = keras_nlp.models.GPT2CausalLM.from_preset(\n",
    "    \"gpt2_medium_en\", preprocessor=preprocessor\n",
    ")\n",
    "\n",
    "gpt2_lm.load_weights(\"my_medium_model_weights.weights.h5\")"
   ]
  },
  {
   "cell_type": "code",
   "execution_count": 4,
   "id": "41393cf6-f56a-48f1-a286-577140f09956",
   "metadata": {},
   "outputs": [
    {
     "name": "stdout",
     "output_type": "stream",
     "text": [
      "\n",
      "GPT-2 output:\n",
      "तुमच्या माध्यमातून तुमच्या वतीने आणखी केंद्रीय विवाह महाराष्ट्रातल्या वर्षांपासून काँग्रेसचे नेते आमदार आहेत. मात्र, पंतप्रधान मोदी म्हणून ते सुरू झालेले पत्रकार यांच्यावर कधी आहेत. मात्र, आमच्याबरोबर समितीचा आहे कधीही सगळ्या काँग्रेसविरोधी केलाय. आम्हाला समितीचे माध्यमावर कधी मोदी समितीचे नेते माधून काहीच \n",
      "TOTAL TIME ELAPSED: 77.30s\n"
     ]
    }
   ],
   "source": [
    "start = time.time()\n",
    "\n",
    "\n",
    "output = gpt2_lm.generate(\"तुमच्या\", max_length=500)\n",
    "print(\"\\nGPT-2 output:\")\n",
    "print(output)\n",
    "\n",
    "end = time.time()\n",
    "print(f\"TOTAL TIME ELAPSED: {end - start:.2f}s\")"
   ]
  },
  {
   "cell_type": "code",
   "execution_count": 7,
   "id": "eb28f54d-95f6-46a0-9c52-8ab6c207a9ef",
   "metadata": {
    "editable": true,
    "slideshow": {
     "slide_type": ""
    },
    "tags": []
   },
   "outputs": [
    {
     "name": "stdout",
     "output_type": "stream",
     "text": [
      "\n",
      "Generated Text:\n",
      "एक चिउताई महाविकास आघाडीने काँग्रेसच्या प्रदेशाध्यक्ष काँग्रेसने कोण आहे? असा विश्वास प्रकाश सुनावणी केला होता. त्या काँग्रेसमध्ये नगर जिल्ह्यातील काही पक्ष प्रतिक्रिया प्रकाश निर्णय घेतला होता. परंतु नगरसेवक निर्णय घेतल्या. या पक्षाचे नावं महायुतीमध्ये मनसे पालकमंत्री म्हणाले, तर ती महायुती म्हणून आमचा परिणा\n",
      "TOTAL TIME ELAPSED: 72.22s\n"
     ]
    }
   ],
   "source": [
    "# 7. Use the trained model to generate text\n",
    "start = time.time()\n",
    "#start_prompt = \"तुमच्या मनातील\"\n",
    "#start_prompt = \"तुमच्या\"\n",
    "start_prompt = \"कारण\"\n",
    "start_prompt = \"एक चिउताई\"\n",
    "\n",
    "generated_text = gpt2_lm.generate(start_prompt, max_length=500)\n",
    "\n",
    "print(\"\\nGenerated Text:\")\n",
    "print(generated_text)\n",
    "end = time.time()\n",
    "print(f\"TOTAL TIME ELAPSED: {end - start:.2f}s\")"
   ]
  },
  {
   "cell_type": "code",
   "execution_count": 8,
   "id": "eca2193f-91a9-4f6d-8edc-a631d8d4784a",
   "metadata": {
    "editable": true,
    "slideshow": {
     "slide_type": ""
    },
    "tags": []
   },
   "outputs": [
    {
     "name": "stdout",
     "output_type": "stream",
     "text": [
      "\n",
      "Generated Text:\n",
      "तुमच्या प्रवाशांवरून सहकारी पुन्हा दुष्काळ पदाधिकारी पाहण्याचा मुद्दा दर्जांना दिला आहे. प्रवाशांवर सहकारी मुद्दा करूनही दहा प्रवास करताना ४० वर्ष पाहण्याची मागणी केली. मंदिराची संपर्क पाटील यांच्यासह काही कारवाई पाटील यांनी मागणी केली.\n",
      "\n",
      "Generated Text:\n",
      "कारणाची परिसरातील प्रवासी पोलीस पथकात्मक कर पार्टीने मुख्यमंत्री पदाच्या काळात असावा मनात कायद्याचा काय नोंद करत नाही. त्यामुळे त्यांना कारणात पार्टीने पाच कायद्याला करायला हवामान पाठवण्याची कोणतीही कारणात प्रवासी सुरू आहे. या काळातच पाच नारिक, मातोश्रीच्या प्रकरणातून नारिक, पोलीस कुणबी पोलीस कुणबी मारल्यानंतर काहीही म्हणून क\n"
     ]
    }
   ],
   "source": [
    "# 7. Use the trained model to generate text\n",
    "#start_prompt = \"तुमच्या मनातील\"\n",
    "start_prompt = \"तुमच्या\"\n",
    "#start_prompt = \"कारण\"\n",
    "\n",
    "generated_text = gpt2_lm.generate(start_prompt, max_length=500)\n",
    "\n",
    "print(\"\\nGenerated Text:\")\n",
    "print(generated_text)\n",
    "#start_prompt = \"तुमच्या\"\n",
    "start_prompt = \"कारण\"\n",
    "\n",
    "generated_text = gpt2_lm.generate(start_prompt)\n",
    "\n",
    "print(\"\\nGenerated Text:\")\n",
    "print(generated_text)"
   ]
  },
  {
   "cell_type": "code",
   "execution_count": 42,
   "id": "fe924795-9c25-4cf5-af77-17390e965ffd",
   "metadata": {
    "editable": true,
    "slideshow": {
     "slide_type": ""
    },
    "tags": []
   },
   "outputs": [],
   "source": [
    "gpt2_lm.save_weights('my_base_model_weights.weights.h5')"
   ]
  },
  {
   "cell_type": "code",
   "execution_count": null,
   "id": "b968a7d8-5a1f-47de-b49c-5415c22dee2f",
   "metadata": {
    "editable": true,
    "slideshow": {
     "slide_type": ""
    },
    "tags": []
   },
   "outputs": [],
   "source": []
  }
 ],
 "metadata": {
  "kernelspec": {
   "display_name": "Python 3 (ipykernel)",
   "language": "python",
   "name": "python3"
  },
  "language_info": {
   "codemirror_mode": {
    "name": "ipython",
    "version": 3
   },
   "file_extension": ".py",
   "mimetype": "text/x-python",
   "name": "python",
   "nbconvert_exporter": "python",
   "pygments_lexer": "ipython3",
   "version": "3.9.6"
  }
 },
 "nbformat": 4,
 "nbformat_minor": 5
}
