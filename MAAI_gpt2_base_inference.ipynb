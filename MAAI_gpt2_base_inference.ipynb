{
 "cells": [
  {
   "cell_type": "code",
   "execution_count": null,
   "id": "9d1fae95-bd82-4f32-92be-c47367e77b01",
   "metadata": {},
   "outputs": [],
   "source": [
    "#install all dependancies\n",
    "!pip install tensorflow\n",
    "!pip install keras keras_nlp\n",
    "!pip install keras-hub\n"
   ]
  },
  {
   "cell_type": "code",
   "execution_count": 1,
   "id": "67bffcdf-d09f-460a-893f-b7a72d7ffc6b",
   "metadata": {},
   "outputs": [],
   "source": [
    "# Impart packages\n",
    "import os\n",
    "os.environ[\"KERAS_BACKEND\"] = \"torch\"  # or \"tensorflow\" or \"torch\"\n",
    "\n",
    "import keras_nlp\n",
    "import keras\n",
    "import torch\n",
    "import tensorflow as tf\n",
    "import time\n",
    "device = torch.device(\"cuda\" if torch.cuda.is_available() else \"cpu\")\n"
   ]
  },
  {
   "cell_type": "code",
   "execution_count": 9,
   "id": "b448b08c-6b19-4b7d-bb64-a1af7cb5a899",
   "metadata": {},
   "outputs": [],
   "source": [
    "# We are limiting the sequence length to 128 as this is a base model. \n",
    "\n",
    "preprocessor = keras_nlp.models.GPT2CausalLMPreprocessor.from_preset(\n",
    "    \"gpt2_base_en\",\n",
    "    sequence_length=128,\n",
    ")\n",
    "gpt2_lm = keras_nlp.models.GPT2CausalLM.from_preset(\n",
    "    \"gpt2_base_en\", preprocessor=preprocessor\n",
    ")\n",
    "\n",
    "gpt2_lm.load_weights(\"MAAI_gpt2_base_weights.weights.h5\")"
   ]
  },
  {
   "cell_type": "code",
   "execution_count": 13,
   "id": "41393cf6-f56a-48f1-a286-577140f09956",
   "metadata": {},
   "outputs": [
    {
     "name": "stdout",
     "output_type": "stream",
     "text": [
      "\n",
      "GPT-2 output:\n",
      "तुमच्या संसारात असे विचार आमच्यावर आले असतील, तर तुमचा अभिनय आम्हाला पडेल.\n",
      "TOTAL TIME ELAPSED: 17.67s\n"
     ]
    }
   ],
   "source": [
    "# Run inference and record time it took. It will take 10s of seconds on M4 mac if not more.\n",
    "# The number will go down in the second inference as the graph and weights are already loaded in the memory\n",
    "\n",
    "start = time.time()\n",
    "\n",
    "#output = gpt2_lm.generate(\"तुमच्या\", max_length=500)\n",
    "start_prompt = \"तुमच्या\"\n",
    "#start_prompt = \"कारण\"\n",
    "#start_prompt = \"एक चिउताई\"\n",
    "output = gpt2_lm.generate(start_prompt, max_length=128)\n",
    "\n",
    "print(\"\\nGPT-2 output:\")\n",
    "print(output)\n",
    "\n",
    "end = time.time()\n",
    "print(f\"TOTAL TIME ELAPSED: {end - start:.2f}s\")"
   ]
  },
  {
   "cell_type": "code",
   "execution_count": null,
   "id": "6cac118a-77d4-4aa8-83f4-00b069eff4b5",
   "metadata": {},
   "outputs": [],
   "source": []
  }
 ],
 "metadata": {
  "kernelspec": {
   "display_name": "Python 3 (ipykernel)",
   "language": "python",
   "name": "python3"
  },
  "language_info": {
   "codemirror_mode": {
    "name": "ipython",
    "version": 3
   },
   "file_extension": ".py",
   "mimetype": "text/x-python",
   "name": "python",
   "nbconvert_exporter": "python",
   "pygments_lexer": "ipython3",
   "version": "3.9.6"
  }
 },
 "nbformat": 4,
 "nbformat_minor": 5
}
